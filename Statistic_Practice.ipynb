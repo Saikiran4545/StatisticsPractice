{
  "nbformat": 4,
  "nbformat_minor": 0,
  "metadata": {
    "colab": {
      "provenance": [],
      "authorship_tag": "ABX9TyMKXnICxTBsT5/5v6e6eOXl",
      "include_colab_link": true
    },
    "kernelspec": {
      "name": "python3",
      "display_name": "Python 3"
    },
    "language_info": {
      "name": "python"
    }
  },
  "cells": [
    {
      "cell_type": "markdown",
      "metadata": {
        "id": "view-in-github",
        "colab_type": "text"
      },
      "source": [
        "<a href=\"https://colab.research.google.com/github/Saikiran4545/StatisticsPractice/blob/main/Statistic_Practice.ipynb\" target=\"_parent\"><img src=\"https://colab.research.google.com/assets/colab-badge.svg\" alt=\"Open In Colab\"/></a>"
      ]
    },
    {
      "cell_type": "code",
      "execution_count": 1,
      "metadata": {
        "colab": {
          "base_uri": "https://localhost:8080/"
        },
        "id": "1hA7KTb9V4ej",
        "outputId": "07120afc-449d-42a4-8474-56da49f90a7e"
      },
      "outputs": [
        {
          "output_type": "execute_result",
          "data": {
            "text/plain": [
              "25172.689566199395"
            ]
          },
          "metadata": {},
          "execution_count": 1
        }
      ],
      "source": [
        "#Programme 1\n",
        "#calculating mean\n",
        "import numpy as np\n",
        "expenditure = np.random.normal(25000,15000,10000)\n",
        "np.mean(expenditure)"
      ]
    },
    {
      "cell_type": "code",
      "source": [
        "expenditure.shape"
      ],
      "metadata": {
        "colab": {
          "base_uri": "https://localhost:8080/"
        },
        "id": "Plh3fQ_DW56-",
        "outputId": "addbb9c0-7223-419e-d641-0d957be569fe"
      },
      "execution_count": 2,
      "outputs": [
        {
          "output_type": "execute_result",
          "data": {
            "text/plain": [
              "(10000,)"
            ]
          },
          "metadata": {},
          "execution_count": 2
        }
      ]
    },
    {
      "cell_type": "code",
      "source": [
        "np.median(expenditure)"
      ],
      "metadata": {
        "colab": {
          "base_uri": "https://localhost:8080/"
        },
        "id": "_PUgpD95XAvg",
        "outputId": "7443b2ba-190f-43fd-f9fc-622cc5399938"
      },
      "execution_count": 3,
      "outputs": [
        {
          "output_type": "execute_result",
          "data": {
            "text/plain": [
              "25148.006893361176"
            ]
          },
          "metadata": {},
          "execution_count": 3
        }
      ]
    },
    {
      "cell_type": "code",
      "source": [
        "#Programme 2\n",
        "from scipy import stats\n",
        "l= [40, 15, 46, 22, 17, 45, 23, 29, 15, 24, 41, 34, 36, 37, 32, 17, 38,\n",
        "       31, 25, 28, 37, 48, 45, 31, 41, 47, 36, 39, 37, 29, 48, 38, 46, 28,\n",
        "       26, 39, 17, 18, 37, 22, 31, 30, 15, 24, 15, 23, 19, 31, 20, 38, 39,\n",
        "       42, 47, 27, 19, 24, 27, 34, 21, 20, 38, 15, 28, 48, 32, 41, 29, 21,\n",
        "       32, 19, 38, 28, 39, 32, 45, 22, 15, 24, 41, 23, 15, 30, 31, 47, 29,\n",
        "       48, 35, 32, 16, 33, 37, 43, 34, 25, 39, 22, 45, 34, 20, 45, 36, 15,\n",
        "       24, 24, 29, 42, 41, 47, 48, 33, 44, 25, 49, 39, 41, 41, 39, 34, 48]\n",
        "stats.mode(l)"
      ],
      "metadata": {
        "colab": {
          "base_uri": "https://localhost:8080/"
        },
        "id": "n3IYeT8cXnoQ",
        "outputId": "8e3ac05d-c2e7-42c7-c89e-f39a54acf186"
      },
      "execution_count": 4,
      "outputs": [
        {
          "output_type": "execute_result",
          "data": {
            "text/plain": [
              "ModeResult(mode=array([15]), count=array([8]))"
            ]
          },
          "metadata": {},
          "execution_count": 4
        }
      ]
    },
    {
      "cell_type": "code",
      "source": [
        "#programme 3\n",
        "\"\"\"Q. Consider a list of random integers 3,3,3,5,6,1. \n",
        "We will now calculate the variance using the numpy library.\"\"\"\n",
        "\n",
        "import numpy as np\n",
        "results = [3,3,3,5,6,1]\n",
        "np.var(results)\n",
        "\n",
        "#The variance of the random data set is 2.58."
      ],
      "metadata": {
        "colab": {
          "base_uri": "https://localhost:8080/"
        },
        "id": "CSo6cSXCeRLW",
        "outputId": "81eb0edc-0d93-49d0-e345-d35161a0f819"
      },
      "execution_count": 5,
      "outputs": [
        {
          "output_type": "execute_result",
          "data": {
            "text/plain": [
              "2.5833333333333335"
            ]
          },
          "metadata": {},
          "execution_count": 5
        }
      ]
    }
  ]
}